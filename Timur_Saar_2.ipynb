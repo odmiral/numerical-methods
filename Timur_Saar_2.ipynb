{
 "cells": [
  {
   "cell_type": "code",
   "execution_count": 2,
   "metadata": {},
   "outputs": [],
   "source": [
    "#задание 1\n",
    "#Несовсем понимаю, что значит вектор из 0, с 4ым элементом равным 1. \n",
    "#и где он находиться в R^4 or R^n, можно конечно ввести метрику в 12, но как-то мне кажется не это иммелось ввиду"
   ]
  },
  {
   "cell_type": "code",
   "execution_count": 23,
   "metadata": {},
   "outputs": [
    {
     "name": "stdout",
     "output_type": "stream",
     "text": [
      "[0 1 2 3 4 5 6 7 8]\n",
      "[[0 1 2]\n",
      " [3 4 5]\n",
      " [6 7 8]]\n"
     ]
    }
   ],
   "source": [
    "#задание 2\n",
    "import numpy as np\n",
    "v2 = np.arange(9)\n",
    "print(v2)\n",
    "m = v2.reshape((3,3))\n",
    "print(m)"
   ]
  },
  {
   "cell_type": "code",
   "execution_count": 27,
   "metadata": {},
   "outputs": [
    {
     "name": "stdout",
     "output_type": "stream",
     "text": [
      "[[ 0. 10. 20. 30. 40.]\n",
      " [ 1. 11. 21. 31. 41.]\n",
      " [ 2. 12. 22. 32. 42.]\n",
      " [ 3. 13. 23. 33. 43.]\n",
      " [ 4. 14. 24. 34. 44.]]\n"
     ]
    }
   ],
   "source": [
    "#задание 3\n",
    "import numpy as np\n",
    "def matr(n, m):\n",
    "    z = np.zeros((n, m))\n",
    "    for i in range(n):\n",
    "        for j in range(m):\n",
    "            z[i][j]= i + 10 * j\n",
    "    return z\n",
    "\n",
    "\n",
    "print(matr(5,5))"
   ]
  },
  {
   "cell_type": "code",
   "execution_count": 30,
   "metadata": {},
   "outputs": [
    {
     "name": "stdout",
     "output_type": "stream",
     "text": [
      "[92, 89, 79, 66, 64, 37, 33, 11, 8, 6]\n"
     ]
    }
   ],
   "source": [
    "#задание 4\n",
    "v = np.random.randint(1, 100, 10)\n",
    "print(sorted(v)[::-1])"
   ]
  },
  {
   "cell_type": "code",
   "execution_count": 31,
   "metadata": {},
   "outputs": [
    {
     "name": "stdout",
     "output_type": "stream",
     "text": [
      "24.0 24 True\n",
      "13.856406460551018 13.856406460551018 True\n"
     ]
    }
   ],
   "source": [
    "#Заданиe_5\n",
    "def l1(a):\n",
    "    s = 0\n",
    "    for x in a:\n",
    "        s += abs(x)\n",
    "    return s \n",
    "\n",
    "\n",
    "def l2(a):\n",
    "    s = 0 \n",
    "    for x in a:\n",
    "        s += x**2\n",
    "    return s**0.5\n",
    "\n",
    "\n",
    "v = np.random.randint(1, 10, 3)\n",
    "print(np.linalg.norm(v, ord=1), l1(v), l1(v)==np.linalg.norm(v, ord=1))\n",
    "print(np.linalg.norm(v, ord=2), l2(v), l2(v)==np.linalg.norm(v, ord=2))\n",
    "\n"
   ]
  },
  {
   "cell_type": "code",
   "execution_count": 40,
   "metadata": {},
   "outputs": [
    {
     "name": "stdout",
     "output_type": "stream",
     "text": [
      "1.5707963267948966 Пи радиан\n"
     ]
    }
   ],
   "source": [
    "#Задание_6\n",
    "def lenght(a):\n",
    "    s = 0\n",
    "    for x in a:\n",
    "        s += x**2 \n",
    "    return s**0.5\n",
    "\n",
    "def multiplication(a, b):\n",
    "    s = 0\n",
    "    for i in range(len(a)):\n",
    "        s += a[i] * b [i]\n",
    "    return s \n",
    " \n",
    "def angel(a, b):\n",
    "    return np.arccos(multiplication(a,b)/(lenght(a)*lenght(b)))\n",
    "\n",
    "\n",
    "print(angel([1,0],[0,1]), 'Пи радиан')\n",
    "\n"
   ]
  },
  {
   "cell_type": "code",
   "execution_count": 43,
   "metadata": {},
   "outputs": [
    {
     "name": "stdout",
     "output_type": "stream",
     "text": [
      "[[82 90 35 28]\n",
      " [42 76 46 74]\n",
      " [ 8 65 59 48]\n",
      " [92  7  6 51]]\n",
      "10438990.0\n"
     ]
    }
   ],
   "source": [
    "#Задание_7\n",
    "\n",
    "m =  np.random.randint(1,100,16).reshape(4, 4)\n",
    "print(m)\n",
    "print(np.linalg.det(m))"
   ]
  },
  {
   "cell_type": "markdown",
   "metadata": {},
   "source": []
  }
 ],
 "metadata": {
  "kernelspec": {
   "display_name": "Python 3.9.6 64-bit",
   "language": "python",
   "name": "python3"
  },
  "language_info": {
   "codemirror_mode": {
    "name": "ipython",
    "version": 3
   },
   "file_extension": ".py",
   "mimetype": "text/x-python",
   "name": "python",
   "nbconvert_exporter": "python",
   "pygments_lexer": "ipython3",
   "version": "3.9.6"
  },
  "orig_nbformat": 4,
  "vscode": {
   "interpreter": {
    "hash": "37a9322f6d330e38b3c57ac7247512c179b8571a3cc028fe277bb437f80bdf5d"
   }
  }
 },
 "nbformat": 4,
 "nbformat_minor": 2
}
