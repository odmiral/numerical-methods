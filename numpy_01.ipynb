{
  "cells": [
    {
      "cell_type": "markdown",
      "source": [
        "NumPy введение.                       mms,25.09.22\n",
        "\n",
        "https://physics.susu.ru/vorontsov/language/numpy.html    -очень полная информация по библиотеке"
      ],
      "metadata": {
        "id": "bZg6xb_7jnog"
      },
      "id": "bZg6xb_7jnog"
    },
    {
      "cell_type": "code",
      "execution_count": null,
      "id": "12ca279b-0d1a-4c4a-b5a2-90c6756a3b79",
      "metadata": {
        "id": "12ca279b-0d1a-4c4a-b5a2-90c6756a3b79"
      },
      "outputs": [],
      "source": [
        "nums = [1, 3, -1]\n",
        "for num in nums:\n",
        "    num += 1\n",
        "    print(num)\n",
        "nums"
      ]
    },
    {
      "cell_type": "code",
      "execution_count": null,
      "id": "e1fe987f-8618-4a04-b8e6-6328bcf702c1",
      "metadata": {
        "id": "e1fe987f-8618-4a04-b8e6-6328bcf702c1"
      },
      "outputs": [],
      "source": [
        "#Создание массива(вектора) из списка\n",
        "import numpy as np\n",
        "#from numpy import *\n",
        "v = np.array(nums,dtype=float)\n",
        "print(v)\n",
        "v"
      ]
    },
    {
      "cell_type": "code",
      "source": [
        "v1=np.arange(1, 5)              #Cоздает вектор с элементами от 1 до 4\n",
        "#Cравните вывод:\n",
        "print(v1)\n",
        "print(*v1)        \n",
        "v1"
      ],
      "metadata": {
        "id": "3SxseUs2UBOM"
      },
      "id": "3SxseUs2UBOM",
      "execution_count": null,
      "outputs": []
    },
    {
      "cell_type": "code",
      "execution_count": null,
      "id": "7a92d970-00bd-4101-ae0c-5a95098e6677",
      "metadata": {
        "id": "7a92d970-00bd-4101-ae0c-5a95098e6677"
      },
      "outputs": [],
      "source": [
        "# Создаем двухмерный массив\n",
        "M = np.array([[1, 2, 3], [4, 5, 6], [7, 8, 10], [9,10,11]])\n",
        "print(M[0, 1])        \n",
        "M[0,1]=100          #Изменение элемента массива\n",
        "M"
      ]
    },
    {
      "cell_type": "code",
      "source": [
        "print(M.size, M.shape, len(M), M.ndim)"
      ],
      "metadata": {
        "id": "VPMbCjmaYC7_"
      },
      "id": "VPMbCjmaYC7_",
      "execution_count": null,
      "outputs": []
    },
    {
      "cell_type": "code",
      "source": [
        "#Все элементы в массиве numpy принадлежат одному типу\n",
        "x = np.array([1.0, 2.0])   # Автоматический выбор типа\n",
        "print(x.dtype)         \n",
        "\n",
        "x = np.array([1.0, 2.0], dtype=np.int32)   # Принудительное задание типа\n",
        "print(x.dtype)             "
      ],
      "metadata": {
        "id": "0fqVJXQ3hsc2"
      },
      "id": "0fqVJXQ3hsc2",
      "execution_count": null,
      "outputs": []
    },
    {
      "cell_type": "code",
      "source": [
        "b = np.eye(4)\n",
        "print (\"Единичная матрица:\\n\", b)\n",
        "\n",
        "c = np.ones((2, 5))\n",
        "print (\"Матрица из всех единиц:\\n\", c)\n",
        "\n",
        "z = np.zeros((3, 3))\n",
        "print (\"Матрица из всех нулей:\\n\", c)\n"
      ],
      "metadata": {
        "id": "-8nn6MsBVeGT"
      },
      "id": "-8nn6MsBVeGT",
      "execution_count": null,
      "outputs": []
    },
    {
      "cell_type": "code",
      "source": [
        "v2 = np.arange(0, 24, 2) \n",
        "print (\"Вектор-столбец:\\n\", v2)\n",
        "\n",
        "d = v2.reshape((3, 4))\n",
        "print (\"Матрица:\\n\", d)\n"
      ],
      "metadata": {
        "colab": {
          "base_uri": "https://localhost:8080/"
        },
        "id": "jmiqzLTnYeAO",
        "outputId": "11aa3d77-65a8-4d99-fbc8-b7391eaa900c"
      },
      "id": "jmiqzLTnYeAO",
      "execution_count": 153,
      "outputs": [
        {
          "output_type": "stream",
          "name": "stdout",
          "text": [
            "Вектор-столбец:\n",
            " [ 0  2  4  6  8 10 12 14 16 18 20 22]\n",
            "Матрица:\n",
            " [[ 0  2  4  6]\n",
            " [ 8 10 12 14]\n",
            " [16 18 20 22]]\n"
          ]
        }
      ]
    },
    {
      "cell_type": "code",
      "source": [
        "d = np.full((2,2), 7)  # Создает матрицу (1, 2) заполненую заданным значением\n",
        "print(d)               \n",
        "                      \n",
        "e = np.random.random((2,2))   # cоздает матрицу заполненую случаными числами из интервала (0, 1)\n",
        "print(e)      \n",
        "\n",
        "f=np.random.randint(1,4,10).reshape(2,5)    # cоздает матрицу 2x5 заполненую случаными числами из интервала [1, 4)\n",
        "print(f) "
      ],
      "metadata": {
        "id": "Oi2scIDOVsKp"
      },
      "id": "Oi2scIDOVsKp",
      "execution_count": null,
      "outputs": []
    },
    {
      "cell_type": "code",
      "execution_count": null,
      "id": "cd15e45d-7c08-4635-8957-e10073628c58",
      "metadata": {
        "id": "cd15e45d-7c08-4635-8957-e10073628c58"
      },
      "outputs": [],
      "source": [
        "#Cрезы.\n",
        "print(M)\n",
        "#M[:, 1]\n",
        "#M[0:2, 1]\n",
        "#M[0:-1, 1]\n",
        "#M[1]\n",
        "#M[:, [0,2]]\n",
        "\n",
        "#print(v)\n",
        "#M[0, :] = v\n",
        "#M"
      ]
    },
    {
      "cell_type": "code",
      "execution_count": null,
      "id": "17afec1e-4e01-430d-9a77-e807ab9d58be",
      "metadata": {
        "id": "17afec1e-4e01-430d-9a77-e807ab9d58be"
      },
      "outputs": [],
      "source": [
        "M = np.array([[1, 2, 3], [4, 5, 6], [7, 8, 10]])\n",
        "print(M)\n",
        "print(v)\n",
        "\n",
        "M+M                   #поэлеметное сложение\n",
        "#M*M                  #поэлеметное(!) умножение\n",
        "#M*v                  \n",
        "#np.sin(M)            # поэлементное применение функции sin\n",
        "\n",
        "#np.dot(M, M)         #матричное умножение\n",
        "\n",
        "#np.linalg.det(M)     #определитель\n",
        "#np.trace(A)          #cумма диагональных элеменов    \n",
        "\n",
        "#Решение системы линейных уравнений Mx=y. (Построим у для x=v и проверим, что найденное решение совпадет с v)\n",
        "#y = np.dot(M, v)\n",
        "#print(y)\n",
        "#x=np.linalg.solve(M, y)\n",
        "#x\n"
      ]
    },
    {
      "cell_type": "code",
      "source": [
        "#O копировании\n",
        "print(M)\n",
        "C = M[1:3, 1:3]\n",
        "print(C)\n",
        "C[1:] =100\n",
        "print(C)\n",
        "print(M)\n",
        "#C = M[1:3, 1:3].copy()    - а правильно было так!"
      ],
      "metadata": {
        "id": "vzSOWkfFLpCd"
      },
      "id": "vzSOWkfFLpCd",
      "execution_count": null,
      "outputs": []
    },
    {
      "cell_type": "code",
      "source": [
        "#Транспонирование\n",
        "a = np.array([[1, 2], [3, 4]])\n",
        "b = np.transpose(a)\n",
        "c = a.T"
      ],
      "metadata": {
        "id": "9Vi4eaVyobo9"
      },
      "id": "9Vi4eaVyobo9",
      "execution_count": null,
      "outputs": []
    },
    {
      "cell_type": "code",
      "source": [
        "#Ранг матрицы (мах число незаисимых строк столбцов)\n",
        "a = np.array([[1, 2, 3], [1, 1, 1], [2, 2, 2]])\n",
        "r = np.linalg.matrix_rank(a)\n",
        "print(r)"
      ],
      "metadata": {
        "id": "5E-u42z3pD5N"
      },
      "id": "5E-u42z3pD5N",
      "execution_count": null,
      "outputs": []
    },
    {
      "cell_type": "code",
      "source": [
        "#Обратите внимание: вектор (одномерный массив) и вектор-столбец или вектор-строка (двумерные массивы) \n",
        "#являются различными объектами в NumPy, хотя математически задают один и тот же объект. \n",
        "#В случае одномерного массива shape состоит из одного числа и имеет вид (n,), где n — длина вектора. \n",
        "#В случае двумерных векторов в shape присутствует еще одна размерность (n,1).\n",
        "a = np.array([1, 2, 3])\n",
        "b = np.array([[1], [2], [3]])\n",
        "print (f'a:\\n {a}\\n {a.shape}')\n",
        "print (f'b:\\n {b}\\n {b.shape}\\n')\n",
        "\n",
        "#В большинстве случаев неважно, какое представление использовать, потому что часто \n",
        "#срабатывает приведение типов. Но некоторые операции не работают для одномерных массивов. \n",
        "#Например, транспонирование:\n",
        "print(a.T)\n",
        "print(b,b.T)\n"
      ],
      "metadata": {
        "id": "zKGU2mzmfZWS"
      },
      "id": "zKGU2mzmfZWS",
      "execution_count": null,
      "outputs": []
    },
    {
      "cell_type": "code",
      "source": [
        "#Норма \n",
        "#linalg.norm(a[, ord])   \n",
        "a = np.array([2, 2, -3])\n",
        "print('L1 норма вектора a:', np.linalg.norm(a, ord=1))\n",
        "print('L2 норма вектора a:', np.linalg.norm(a, ord=2))"
      ],
      "metadata": {
        "colab": {
          "base_uri": "https://localhost:8080/"
        },
        "id": "bWyzaMNgweR2",
        "outputId": "3a015d40-2a29-44ee-e68d-df2f4d639e9e"
      },
      "id": "bWyzaMNgweR2",
      "execution_count": 98,
      "outputs": [
        {
          "output_type": "stream",
          "name": "stdout",
          "text": [
            "L1 норма вектора a: 7.0\n",
            "L2 норма вектора a: 4.123105625617661\n"
          ]
        }
      ]
    },
    {
      "cell_type": "code",
      "source": [
        "#Обратная матрица(для квадратных невырожденных матриц)\n",
        "A = np.array([[1, 2, 1], [1, 1, 4], [2, 3, 6]], dtype=np.float32)\n",
        "D = np.array([[1, 2, 1], [1, 1, 4], [1, 8, 4], [2, 3, 6]], dtype=np.float32)\n",
        "D\n",
        "print(np.linalg.inv(A))\n",
        "print(np.linalg.pinv(D))     #Псевдо-обратная матрица (Мура-Пенроуза) для произвольных матриц"
      ],
      "metadata": {
        "id": "cSp4NVyup9V8"
      },
      "id": "cSp4NVyup9V8",
      "execution_count": null,
      "outputs": []
    },
    {
      "cell_type": "code",
      "source": [
        "np.linalg.eig(A) \t    #собственные значения и собственные вектора квадратной матрицы"
      ],
      "metadata": {
        "id": "KPtk-fpQBMUb"
      },
      "id": "KPtk-fpQBMUb",
      "execution_count": null,
      "outputs": []
    },
    {
      "cell_type": "code",
      "execution_count": null,
      "id": "c8430d3a-3832-4605-8955-95a93d131856",
      "metadata": {
        "id": "c8430d3a-3832-4605-8955-95a93d131856"
      },
      "outputs": [],
      "source": [
        "#Cоздание сеток\n",
        "#Равномерный набор заданного числа точек(11) на заданном интрвале [-5,5]\n",
        "x = np.linspace(-5, 5, 11)   \n",
        "print(x)\n",
        "\n",
        "#Набор последовательных чисел из промежутка [start, stop) с заданным шагом step\n",
        "#arange([start,] stop [, step,][, dtype])\n",
        "x=np.arange(4.0)\n",
        "print(x)\n",
        "\n",
        "#Логарифмический набор точек\n",
        "x=np.logspace(2.0, 3.0, num=4, base=2.0)\n",
        "print(x)\n",
        "\n",
        "#Два вектора, описывающих точки ортогональной сетки.\n",
        "X, Y = np.meshgrid([1,2,3], [4,5,7])"
      ]
    },
    {
      "cell_type": "code",
      "source": [
        "import numpy as np\n",
        "M = np.array([[1, 2, 3], [4, 5, 6], [7, 8, 10]])\n",
        "print(np.add(M,M))\n",
        "#from scipy import linalg, sparse\n",
        "linalg.expm(M)"
      ],
      "metadata": {
        "id": "VBP4pkAssI2K"
      },
      "id": "VBP4pkAssI2K",
      "execution_count": null,
      "outputs": []
    },
    {
      "cell_type": "code",
      "source": [],
      "metadata": {
        "colab": {
          "base_uri": "https://localhost:8080/"
        },
        "id": "i7LaBzxgHwMY",
        "outputId": "5441f9e9-5254-4eb8-ab4a-27d628e441b8"
      },
      "id": "i7LaBzxgHwMY",
      "execution_count": 151,
      "outputs": [
        {
          "output_type": "execute_result",
          "data": {
            "text/plain": [
              "array([[2, 3, 2, 2, 2],\n",
              "       [2, 2, 2, 2, 3]])"
            ]
          },
          "metadata": {},
          "execution_count": 151
        }
      ]
    },
    {
      "cell_type": "code",
      "source": [
        "#Задания\n",
        "\n",
        "#Заданиe_1\n",
        "#Создайте вектор из нулей длины 12, но его 4-й елемент должен быть равен 1\n",
        "\n",
        "#Заданиe_2\n",
        "#Создайте матрицу (3, 3), заполненую от 0 до 8\n",
        "\n",
        "#Задание_3\n",
        "#Напишите функцию, которая принимает размер матрицы, а возвращает матрицу, \n",
        "#сформированною ее по формуле\n",
        "#A[n,m] = n + 10 * m\n",
        "\n",
        "#Заданиe_4\n",
        "#Создайте рандомный вектор и отсортируйте его по убыванию.(Найдите и разберитесь \n",
        "#с функцией сортировки)\n",
        "\n",
        "#Заданиe_5\n",
        "#Напишите свои функции вычисления L1 и L2 нормы вектора и сравните с np.linalg.norm. \n",
        "#Для каждой нормы напечатайте в строку оба значения и результат сравнения.\n",
        "#Оформите все в виде функции с одним аргументом(входным вектором). \n",
        "\n",
        "#Задание_6\n",
        "#Напишите функцию, принимающую на вход два вектора, которая вычисляет \n",
        "#угол между этими векторами.\n",
        "\n",
        "#Задание_7\n",
        "#Сгенерируйте матрицу 4x4 из целых случайных чисел.\n",
        "#Если определитель матрицы не равен 0, то вычислите обратную матрицу.\n",
        "#Проверьте, что произведение A на обратную должна быть единичной.\n",
        "\n",
        "#Заданиe_8\n",
        "#Написать функцию select_even(arr), принимающую на вход массив целых чисел arr \n",
        "#и возвращающую новый массив, который состоит из всех чётных элементов arr.\n",
        "\n",
        "#Заданиe_9\n",
        "#Написать функцию wipe_even(arr, target_value, in_place), принимающую на вход массив целых \n",
        "#чисел arr, и возвращающую массив, полученный из arr путём замены всех чётных элементов на \n",
        "#target_value. Если target_value не указано, то оно должно считаться равным числу 0. \n",
        "#Если указан параметр in_place и он равен True, то функция должна менять исходный массив, \n",
        "#а если не указан или указан в False, то сохранять его неизменным. \n",
        "\n",
        "#Заданиe_10\n",
        "#Постройте 3D-график функции z=x^2-y^2 на области x: [-1.5, 1.5], y: [-1,1] "
      ],
      "metadata": {
        "id": "Z6-R7taGuJTV"
      },
      "id": "Z6-R7taGuJTV",
      "execution_count": null,
      "outputs": []
    }
  ],
  "metadata": {
    "kernelspec": {
      "display_name": "Python 3",
      "language": "python",
      "name": "python3"
    },
    "language_info": {
      "codemirror_mode": {
        "name": "ipython",
        "version": 3
      },
      "file_extension": ".py",
      "mimetype": "text/x-python",
      "name": "python",
      "nbconvert_exporter": "python",
      "pygments_lexer": "ipython3",
      "version": "3.6.6"
    },
    "colab": {
      "provenance": [],
      "collapsed_sections": []
    }
  },
  "nbformat": 4,
  "nbformat_minor": 5
}