{
  "nbformat": 4,
  "nbformat_minor": 0,
  "metadata": {
    "colab": {
      "provenance": [],
      "collapsed_sections": []
    },
    "kernelspec": {
      "name": "python3",
      "display_name": "Python 3"
    },
    "language_info": {
      "name": "python"
    }
  },
  "cells": [
    {
      "cell_type": "code",
      "source": [
        "import matplotlib.pyplot as plt\n",
        "import numpy as np\n",
        "import math\n",
        "\n",
        "x = np.linspace(-10, 10, 200)\n",
        "\n",
        "x = []\n",
        "s = -10\n",
        "y = []\n",
        "while s < 10:\n",
        "  x.append(s)\n",
        "  y.append(math.sin(s))\n",
        "  s += 0.1\n",
        "plt.plot(x, y, 'r-')\n",
        "plt.axis([-5,5,-2,2])\n",
        "plt.show\n"
      ],
      "metadata": {
        "colab": {
          "base_uri": "https://localhost:8080/",
          "height": 286
        },
        "id": "SrHq44CevB1T",
        "outputId": "8e4e2bc8-1f6e-40bf-9d4e-78787c68259c"
      },
      "execution_count": null,
      "outputs": [
        {
          "output_type": "execute_result",
          "data": {
            "text/plain": [
              "<function matplotlib.pyplot.show(*args, **kw)>"
            ]
          },
          "metadata": {},
          "execution_count": 7
        },
        {
          "output_type": "display_data",
          "data": {
            "text/plain": [
              "<Figure size 432x288 with 1 Axes>"
            ],
            "image/png": "[encoded data removed]"
          },
          "metadata": {
            "needs_background": "light"
          }
        }
      ]
    },
    {
      "cell_type": "code",
      "source": [
        "#Задание 6 \n",
        "def distance(ss):\n",
        "  if len(ss) == 2:\n",
        "    return (ss[0]**2 + ss[1]**2)**0.5\n",
        "  else:\n",
        "    return ( (ss[0] - ss[2])**2 + (ss[1] - ss[3])**2)**0.5\n",
        "\n",
        "s = list(map(int, input().split()))\n",
        "print(distance(s)) "
      ],
      "metadata": {
        "colab": {
          "base_uri": "https://localhost:8080/"
        },
        "id": "DjhSSuMg1AWN",
        "outputId": "2f748345-4fc0-4e9d-f041-0ba25aa00b84"
      },
      "execution_count": null,
      "outputs": [
        {
          "output_type": "stream",
          "name": "stdout",
          "text": [
            "1 1\n",
            "1.4142135623730951\n"
          ]
        }
      ]
    },
    {
      "cell_type": "code",
      "source": [
        "#Задание 5 \n",
        "\n",
        "def vmultiply(x1, y1, x2, y2):\n",
        "  return x1*x2 + y1*y2\n",
        "\n"
      ],
      "metadata": {
        "id": "q480Jx3hzM2n"
      },
      "execution_count": null,
      "outputs": []
    },
    {
      "cell_type": "code",
      "source": [
        "#Задание 7\n",
        "def perimetr(ss):\n",
        "  if len(ss) < 3:\n",
        "    return False\n",
        "  else:\n",
        "    return len(s), sum(ss)\n",
        "\n",
        "\n",
        "\n",
        "s = list(map(int, input().split()))\n",
        "print(perimetr(s))\n",
        "\n"
      ],
      "metadata": {
        "colab": {
          "base_uri": "https://localhost:8080/"
        },
        "id": "oYENYaoKD0Ot",
        "outputId": "ac861079-55b2-4433-b583-a481efc90b04"
      },
      "execution_count": null,
      "outputs": [
        {
          "output_type": "stream",
          "name": "stdout",
          "text": [
            "1 2 3 4\n",
            "(4, 10)\n"
          ]
        }
      ]
    },
    {
      "cell_type": "code",
      "source": [
        "#Задание 9\n",
        "def check_password(s):\n",
        "  sym = '$%!?@#'\n",
        "  flag = False \n",
        "  for x in s:\n",
        "    if x in sym:\n",
        "      flag = True \n",
        "  if flag and len(s) > 8:\n",
        "    return True\n",
        "  else:\n",
        "    return False\n",
        "  \n",
        "\n",
        "a = input()\n",
        "print(check_password(a))\n"
      ],
      "metadata": {
        "id": "uCmqo2XtE1ts",
        "colab": {
          "base_uri": "https://localhost:8080/"
        },
        "outputId": "5f62e35a-f781-42ee-b4b8-7f3134ad908f"
      },
      "execution_count": 2,
      "outputs": [
        {
          "output_type": "stream",
          "name": "stdout",
          "text": [
            "asddasdas#####\n",
            "True\n"
          ]
        }
      ]
    },
    {
      "cell_type": "markdown",
      "source": [],
      "metadata": {
        "id": "Wk4dAC810fjv"
      }
    }
  ]
}