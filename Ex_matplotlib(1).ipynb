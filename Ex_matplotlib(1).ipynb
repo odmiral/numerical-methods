{
  "cells": [
    {
      "cell_type": "markdown",
      "metadata": {
        "id": "hGvuAr_1Zi0l"
      },
      "source": [
        "Matplotlib. \n",
        "mms, 23.09.22"
      ]
    },
    {
      "cell_type": "code",
      "execution_count": null,
      "metadata": {
        "id": "HC96dYlUXHZr"
      },
      "outputs": [],
      "source": [
        "import matplotlib.pyplot as plt\n",
        "import numpy as np\n",
        "#x=np.linspace(-10,10,200)\n",
        "#plt.plot(x, np.sin(x), 'r-')\n",
        "#plt.axis([-5, 5, -2, 2])\n",
        "x1 = np.linspace(-2, 2, 21)\n",
        "z = np.sin(3*x1)\n",
        "plt.plot(x1, z, 'bo:')\n",
        "plt.show()\n",
        "#plt.savefig('sin.png')"
      ]
    },
    {
      "cell_type": "code",
      "execution_count": null,
      "metadata": {
        "id": "pkagNGGDZD7c"
      },
      "outputs": [],
      "source": [
        "# Логарифмический масштаб по осям. Сетка.\n",
        "#x = np.linspace(0, 100,100)\n",
        "x = np.logspace(0, 2,100)\n",
        "z1 = np.exp(x/10)\n",
        "z2 = np.sin(x)\n",
        "y= z1+z2\n",
        "plt.loglog(x, y, '.-')\n",
        "plt.show()\n",
        "\n",
        "plt.semilogy(x, y, '.-')\n",
        "plt.grid()\n",
        "plt.show()"
      ]
    },
    {
      "cell_type": "code",
      "execution_count": null,
      "metadata": {
        "id": "UVxLMkwnW2za"
      },
      "outputs": [],
      "source": [
        "#%matplotlib notebook\n",
        "%matplotlib inline\n",
        "\n",
        "x=np.linspace(-10,10,200)\n",
        "plt.plot(x, np.sin(x), 'r:',label=\"one\" )\n",
        "plt.plot(x, np.sin(x+pi/2)/2, 'g',label=\"two\")\n",
        "plt.title('My Graph')\n",
        "plt.xlabel('Х')\n",
        "plt.ylabel('значение Y')\n",
        "plt.legend()\n",
        "plt.show()"
      ]
    },
    {
      "cell_type": "code",
      "execution_count": null,
      "metadata": {
        "id": "vtUozzywJWoN"
      },
      "outputs": [],
      "source": [
        "# Subplot позволяет разбить графическое окно на несколько областей.\n",
        "# три параметра: nrows-количество строк, ncols - количество столбцов,\n",
        "# nplot - номер области (от 1 до nrows*ncols).\n",
        "import numpy as np\n",
        "import matplotlib.pyplot as plt\n",
        "\n",
        "x = np.arange(-10, 10.01, 0.01)  # от -10 до 10.01 с шагом 0.01 (>1000 точек)\n",
        "t = np.arange(-10, 11, 1)        # от -10 до 11 с шагом 1 (20 точек)\n",
        "\n",
        "#subplot 1\n",
        "plt.subplot(221)           \n",
        "plt.plot(x, np.sin(x))      \n",
        "plt.title('sin(x)')    \n",
        "plt.grid()              \n",
        "\n",
        "#subplot 2\n",
        "plt.subplot(222)            \n",
        "plt.plot(x, np.cos(x), 'g') \n",
        "plt.axis('equal')           # одинаковый масштаб по осям Х и Y\n",
        "plt.grid()              \n",
        "plt.title('cos(x)')     \n",
        "\n",
        "#subplot 3\n",
        "plt.subplot(223)           \n",
        "plt.plot(x, x**2, t, t**2, 'ro')    # 2 графика, первый линией, второй красными кругами\n",
        "plt.title('$x^2$')\n",
        "\n",
        "#subplot 4\n",
        "plt.subplot(224) \n",
        "y=np.sin(t/3)           \n",
        "plt.errorbar(t, y, xerr=0.02, yerr=0.5)             \n",
        "plt.title('sin(t/3)')\n",
        "plt.grid()\n",
        "\n",
        "# расположить области с отступами \n",
        "#plt.subplots_adjust(wspace=0.3, hspace=0.5)\n",
        "#plt.subplots_adjust(left=0.1, right=0.95, bottom=0.1, top=0.95, wspace=0.2, hspace=0.4)\n",
        "\n",
        "plt.show() "
      ]
    },
    {
      "cell_type": "code",
      "execution_count": null,
      "metadata": {
        "id": "kdj26nHTXioq"
      },
      "outputs": [],
      "source": [
        "# Полярная система координат\n",
        "import numpy as np\n",
        "import matplotlib.pyplot as plt\n",
        "\n",
        "plt.subplot(111, polar=True)        \n",
        "\n",
        "phi = np.arange(0, 2*np.pi, 0.01)   # угол phi - массив от от 0 до 2*pi с шагом 0.01\n",
        "rho = 2*phi                         # расстояние от центра 2*phi\n",
        "plt.plot(phi, rho)            \n",
        "plt.show()"
      ]
    },
    {
      "cell_type": "code",
      "execution_count": null,
      "metadata": {
        "id": "Ism_awaxYaow"
      },
      "outputs": [],
      "source": [
        "#Параметрическая форма. \n",
        "#Окружность: x(t) = r*sin(t), y(t) = r*cos(t), где t от 0 до 2pi )\n",
        "\n",
        "import numpy as np\n",
        "import matplotlib.pyplot as plt\n",
        "\n",
        "t = np.arange(0, 2*np.pi, 0.01)          # угол t от 0 до 2pi с шагом 0.01\n",
        "r = 4                                    # радиус 4\n",
        "\n",
        "plt.plot(r*np.sin(t), r*np.cos(t), lw=3) # x и у задаем как numpy функции от t\n",
        "plt.axis('equal')                        # масштаб осей Х и У одинаковый (чтобы круг не был овалом)\n",
        "\n",
        "plt.show()"
      ]
    },
    {
      "cell_type": "code",
      "execution_count": null,
      "metadata": {
        "id": "KoaCz69-YGIy"
      },
      "outputs": [],
      "source": [
        "# Пример создания двумерной сетки и отображения 3D-графика\n",
        "import numpy as np\n",
        "import matplotlib.pyplot as plt\n",
        "from matplotlib import cm\n",
        "\n",
        "x = y = np.linspace(-3, 3, 41)\n",
        "X,Y=np.meshgrid(x, y)\n",
        "#print(X, Y)\n",
        "#print(X.shape)\n",
        "Z = X**2+Y**2\n",
        "ax = plt.axes(projection='3d')\n",
        "ax.plot_surface(X,Y,Z)\n",
        "#ax.plot_surface(X, Y, Z, rstride=4, cstride=4, cmap=cm.jet)\n",
        "#ax.contourf3D(X, Y, Z)\n",
        "plt.show()"
      ]
    },
    {
      "cell_type": "markdown",
      "metadata": {
        "id": "FqUjYOx5aRP7"
      },
      "source": [
        "Много других возможностей см. https://matplotlib.org  \n",
        "и шпаргалка +Matplotlib_cheatsheets.pdf"
      ]
    },
    {
      "cell_type": "code",
      "execution_count": null,
      "metadata": {
        "id": "E1X2uLqrgDUl"
      },
      "outputs": [],
      "source": [
        "# Задание_1\n",
        "# Постройте и расположите рядом графики двух функций. Первая у=4^x на интервале [0,100] \n",
        "# в логарифмическом масштабе. Вторая y=arctg(x+pi*N), для N=0,1,2,3,4 на интервале [-10,30]\n"
      ]
    }
  ],
  "metadata": {
    "colab": {
      "collapsed_sections": [],
      "provenance": []
    },
    "kernelspec": {
      "display_name": "Python 3.9.6 64-bit",
      "language": "python",
      "name": "python3"
    },
    "language_info": {
      "name": "python",
      "version": "3.9.6"
    },
    "vscode": {
      "interpreter": {
        "hash": "37a9322f6d330e38b3c57ac7247512c179b8571a3cc028fe277bb437f80bdf5d"
      }
    }
  },
  "nbformat": 4,
  "nbformat_minor": 0
}
